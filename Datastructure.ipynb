{
  "nbformat": 4,
  "nbformat_minor": 0,
  "metadata": {
    "colab": {
      "provenance": []
    },
    "kernelspec": {
      "name": "python3",
      "display_name": "Python 3"
    },
    "language_info": {
      "name": "python"
    }
  },
  "cells": [
    {
      "cell_type": "code",
      "execution_count": null,
      "metadata": {
        "id": "bHOsO6BTZRfX"
      },
      "outputs": [],
      "source": []
    },
    {
      "cell_type": "markdown",
      "source": [
        "**1. What are data structures, and why are they important?**\n",
        "\n",
        "\n",
        "Data structures are ways of organizing and storing data efficiently so that it can be accessed and modified easily. They are important because they help manage and process data effectively, enabling optimal performance in programming tasks.\n",
        "\n",
        "**2.Explain the difference between mutable and immutable data types with examples.**\n",
        "\n",
        "***Mutable:*** Can be changed after creation (e.g., list, dict, set)\n",
        "Example: a = [1, 2]; a[0] = 5\n",
        "\n",
        "***Immutable:*** Cannot be changed after creation (e.g., int, str, tuple)\n",
        "Example: s = \"hello\"; s[0] = \"H\" → Error\n",
        "\n",
        "**3.What are the main differences between lists and tuples in Python?**\n",
        "\n",
        "•\tLists are mutable and use square brackets: []\n",
        "\n",
        "•\tTuples are immutable and use parentheses: ()\n",
        "\n",
        "•\tLists are used when data might change; tuples are used for fixed data.\n",
        "\n",
        "\n",
        "**4.Describe how dictionaries store data.**\n",
        "\n",
        "Dictionaries store data as key-value pairs using a hash table internally. Each key maps to a specific value, allowing fast lookups.\n",
        "\n",
        "\n",
        "**5.Why might you use a set instead of a list in Python?**\n",
        "\n",
        "Sets are used when you need unique elements only and faster membership tests. They automatically remove duplicates and are more efficient for checking existence.\n",
        "\n",
        "**6.What is a string in Python, and how is it different from a list?**\n",
        "\n",
        "\n",
        "A string is a sequence of characters (e.g., \"hello\"), and it is immutable. A list is a mutable sequence of items, which can include any data type.\n",
        "\n",
        "**7.How do tuples ensure data integrity in Python?**\n",
        "\n",
        "Tuples are immutable, so their content cannot be changed accidentally. This makes them reliable for storing fixed data that should not be modified.\n",
        "\n",
        "**8.What is a hash table, and how does it relate to dictionaries in Python**\n",
        "\n",
        "A hash table is a data structure that maps keys to values using a hash function. Python dictionaries use hash tables internally to allow fast data retrieval.\n",
        "\n",
        "**9.Can lists contain different data types in Python?**\n",
        "\n",
        "\n",
        "Yes, lists can hold elements of different data types, such as [1, \"hello\", 3.5, True].\n",
        "\n",
        "**10.Explain why strings are immutable in Python**.\n",
        "\n",
        "Strings are immutable for performance and security reasons. It ensures that once created, the content cannot be altered, which is efficient for memory usage and thread safety.\n",
        "\n",
        "**11.What advantages do dictionaries offer over lists for certain tasks?**\n",
        "\n",
        "Dictionaries allow fast access to values using keys, making them ideal for lookup tables, mapping relationships, and storing labeled data.\n",
        "\n",
        "**12.Describe a scenario where using a tuple would be preferable over a list**.\n",
        "\n",
        "Use a tuple to store fixed configuration data (like coordinates (x, y)) or as dictionary keys, where immutability is needed.\n",
        "\n",
        "**13.How do sets handle duplicate values in Python?**\n",
        "\n",
        "Sets automatically remove duplicates. If duplicates are added, only one instance is kept.\n",
        "\n",
        "**14.How does the “in” keyword work differently for lists and dictionaries?**\n",
        "\n",
        "•\tIn lists, \"in\" checks if a value exists.\n",
        "  3 in [1, 2, 3] → True\n",
        "\n",
        "•\tIn dictionaries, \"in\" checks for a key.\n",
        " 'name' in {'name': 'Alice'} → True\n",
        "\n",
        "**15.Can you modify the elements of a tuple? Explain why or why not.**\n",
        "\n",
        "No, tuples are immutable, meaning their elements cannot be changed after creation.\n",
        "\n",
        "**16.What is a nested dictionary, and give an example of its use case.**\n",
        "\n",
        "A nested dictionary is a dictionary within another dictionary.\n",
        "\n",
        "Example:\n",
        "students = {\n",
        "  \"Alice\": {\"math\": 85, \"science\": 90},\n",
        "\n",
        "  \"Bob\": {\"math\": 78, \"science\": 82}\n",
        "}\n",
        "\n",
        "**17.Describe the time complexity of accessing elements in a dictionary**.\n",
        "\n",
        "Accessing elements by key in a dictionary is O(1) on average due to the use of a hash table.\n",
        "\n",
        "**18.In what situations are lists preferred over dictionaries?**\n",
        "\n",
        "\n",
        "Lists are better when you need ordered data, duplicates, or need to iterate by index.\n",
        "\n",
        "**19.Why are dictionaries considered unordered, and how does that affect data retrieval?**\n",
        "\n",
        "Prior to Python 3.7, dictionaries did not maintain insertion order. While modern Python retains order, dictionary keys are still accessed by key, not position.\n",
        "\n",
        "**20.Explain the difference between a list and a dictionary in terms of data retrieval.**\n",
        "\n",
        "•\tLists use numeric indices: list[0]\n",
        "\n",
        "•\tDictionaries use keys: dict[\"name\"]\n",
        "\n",
        "Dictionaries provide faster lookups when accessing data by unique identifiers.\n",
        "\n",
        "\n",
        "\n"
      ],
      "metadata": {
        "id": "TUMfL8psZWKS"
      }
    },
    {
      "cell_type": "code",
      "source": [],
      "metadata": {
        "id": "xFkdq3g_ehqD"
      },
      "execution_count": null,
      "outputs": []
    },
    {
      "cell_type": "markdown",
      "source": [
        "**1.Create a string with your name and print it**\n"
      ],
      "metadata": {
        "id": "oD9LFhN2e6RZ"
      }
    },
    {
      "cell_type": "code",
      "source": [
        "name = \"Lilima\"\n",
        "print(name)\n"
      ],
      "metadata": {
        "colab": {
          "base_uri": "https://localhost:8080/"
        },
        "id": "S5nzHnSBepL4",
        "outputId": "43ae2265-03aa-4c7c-ba7d-0baafc51fa12"
      },
      "execution_count": 1,
      "outputs": [
        {
          "output_type": "stream",
          "name": "stdout",
          "text": [
            "Lilima\n"
          ]
        }
      ]
    },
    {
      "cell_type": "markdown",
      "source": [
        "**2.Find the length of the string \"Hello World\"**\n"
      ],
      "metadata": {
        "id": "6-hYSVdueprY"
      }
    },
    {
      "cell_type": "code",
      "source": [
        "text = \"Hello World\"\n",
        "print(len(text))\n"
      ],
      "metadata": {
        "colab": {
          "base_uri": "https://localhost:8080/"
        },
        "id": "v_rXzyl6eqL5",
        "outputId": "605e42cb-d915-4388-f12d-21e80b94daaf"
      },
      "execution_count": 2,
      "outputs": [
        {
          "output_type": "stream",
          "name": "stdout",
          "text": [
            "11\n"
          ]
        }
      ]
    },
    {
      "cell_type": "markdown",
      "source": [
        "**3.Slice the first 3 characters from the string \"Python Programming\"**\n"
      ],
      "metadata": {
        "id": "631pmXQsf9IY"
      }
    },
    {
      "cell_type": "code",
      "source": [
        "string = \"Python Programming\"\n",
        "print(string[:3])\n"
      ],
      "metadata": {
        "colab": {
          "base_uri": "https://localhost:8080/"
        },
        "id": "ayd6fJTmgHGY",
        "outputId": "192d0499-e89a-4f5f-975c-4400af162345"
      },
      "execution_count": 3,
      "outputs": [
        {
          "output_type": "stream",
          "name": "stdout",
          "text": [
            "Pyt\n"
          ]
        }
      ]
    },
    {
      "cell_type": "markdown",
      "source": [
        "**4.Convert the string \"hello\" to uppercase**\n"
      ],
      "metadata": {
        "id": "JeodEsslgM5w"
      }
    },
    {
      "cell_type": "code",
      "source": [
        "word = \"hello\"\n",
        "print(word.upper())\n"
      ],
      "metadata": {
        "colab": {
          "base_uri": "https://localhost:8080/"
        },
        "id": "H8IIkd1bgYB5",
        "outputId": "a3055774-972a-47fc-f5e8-ea431437c821"
      },
      "execution_count": 4,
      "outputs": [
        {
          "output_type": "stream",
          "name": "stdout",
          "text": [
            "HELLO\n"
          ]
        }
      ]
    },
    {
      "cell_type": "markdown",
      "source": [
        "**5.Replace the word \"apple\" with \"orange\" in the string \"I like apple\"**"
      ],
      "metadata": {
        "id": "jkq716yYgejw"
      }
    },
    {
      "cell_type": "code",
      "source": [
        "sentence = \"I like apple\"\n",
        "print(sentence.replace(\"apple\", \"orange\"))\n"
      ],
      "metadata": {
        "colab": {
          "base_uri": "https://localhost:8080/"
        },
        "id": "G8kTEcL8gn9A",
        "outputId": "2f6b780a-b3c8-4382-ee24-37fe2e8ed6cc"
      },
      "execution_count": 5,
      "outputs": [
        {
          "output_type": "stream",
          "name": "stdout",
          "text": [
            "I like orange\n"
          ]
        }
      ]
    },
    {
      "cell_type": "markdown",
      "source": [
        "**6.Create a list with numbers 1 to 5 and print it**"
      ],
      "metadata": {
        "id": "O4gslk0YgvaB"
      }
    },
    {
      "cell_type": "code",
      "source": [
        "numbers = [1, 2, 3, 4, 5]\n",
        "print(numbers)\n"
      ],
      "metadata": {
        "colab": {
          "base_uri": "https://localhost:8080/"
        },
        "id": "ee4zpXkWg6SB",
        "outputId": "ff419a5b-bd49-421b-dc6f-2f260ecb27fb"
      },
      "execution_count": 6,
      "outputs": [
        {
          "output_type": "stream",
          "name": "stdout",
          "text": [
            "[1, 2, 3, 4, 5]\n"
          ]
        }
      ]
    },
    {
      "cell_type": "markdown",
      "source": [
        "**7.Append the number 10 to the list [1, 2, 3, 4]**"
      ],
      "metadata": {
        "id": "iu5HkqcHhBQv"
      }
    },
    {
      "cell_type": "code",
      "source": [
        "lst = [1, 2, 3, 4]\n",
        "lst.append(10)\n",
        "print(lst)\n"
      ],
      "metadata": {
        "colab": {
          "base_uri": "https://localhost:8080/"
        },
        "id": "-WzUYPyxhMmw",
        "outputId": "bcfec216-d74c-4bcb-96b8-f4ecb6cf1ff7"
      },
      "execution_count": 7,
      "outputs": [
        {
          "output_type": "stream",
          "name": "stdout",
          "text": [
            "[1, 2, 3, 4, 10]\n"
          ]
        }
      ]
    },
    {
      "cell_type": "markdown",
      "source": [
        "**8.Remove the number 3 from the list [1, 2, 3, 4, 5]**"
      ],
      "metadata": {
        "id": "u79auN2FhRgg"
      }
    },
    {
      "cell_type": "code",
      "source": [
        "lst2 = [1, 2, 3, 4, 5]\n",
        "lst2.remove(3)\n",
        "print(lst2)"
      ],
      "metadata": {
        "colab": {
          "base_uri": "https://localhost:8080/"
        },
        "id": "_I9ALpONiLYw",
        "outputId": "ed759080-f9a9-41a1-e178-dc1c1889005a"
      },
      "execution_count": 8,
      "outputs": [
        {
          "output_type": "stream",
          "name": "stdout",
          "text": [
            "[1, 2, 4, 5]\n"
          ]
        }
      ]
    },
    {
      "cell_type": "markdown",
      "source": [
        "**9.Access the second element in the list ['a', 'b', 'c', 'd']**"
      ],
      "metadata": {
        "id": "__yYrq9tiRgI"
      }
    },
    {
      "cell_type": "code",
      "source": [
        "chars = ['a', 'b', 'c', 'd']\n",
        "print(chars[1])"
      ],
      "metadata": {
        "colab": {
          "base_uri": "https://localhost:8080/"
        },
        "id": "4bORA1aCiZ5D",
        "outputId": "04e956a7-52ba-4814-9449-cd92b51dd50a"
      },
      "execution_count": 9,
      "outputs": [
        {
          "output_type": "stream",
          "name": "stdout",
          "text": [
            "b\n"
          ]
        }
      ]
    },
    {
      "cell_type": "markdown",
      "source": [
        "**10.Reverse the list [10, 20, 30, 40, 50]**\n"
      ],
      "metadata": {
        "id": "be1u_8pZigTZ"
      }
    },
    {
      "cell_type": "code",
      "source": [
        "nums = [10, 20, 30, 40, 50]\n",
        "nums.reverse()\n",
        "print(nums)"
      ],
      "metadata": {
        "colab": {
          "base_uri": "https://localhost:8080/"
        },
        "id": "-D6t832Uiygh",
        "outputId": "26e82e4d-1387-4b93-b6bc-8a627818c88b"
      },
      "execution_count": 10,
      "outputs": [
        {
          "output_type": "stream",
          "name": "stdout",
          "text": [
            "[50, 40, 30, 20, 10]\n"
          ]
        }
      ]
    },
    {
      "cell_type": "markdown",
      "source": [
        "**11.Create a tuple with the elements 100, 200, 300 and print it**"
      ],
      "metadata": {
        "id": "o6AP5QK9jR85"
      }
    },
    {
      "cell_type": "code",
      "source": [
        "tup = (100, 200, 300)\n",
        "print(tup)"
      ],
      "metadata": {
        "colab": {
          "base_uri": "https://localhost:8080/"
        },
        "id": "dIzMRDAjjcmJ",
        "outputId": "101c90ad-a4bc-4a87-a71a-bd5d49dd3e3a"
      },
      "execution_count": 11,
      "outputs": [
        {
          "output_type": "stream",
          "name": "stdout",
          "text": [
            "(100, 200, 300)\n"
          ]
        }
      ]
    },
    {
      "cell_type": "markdown",
      "source": [],
      "metadata": {
        "id": "aA3_7Wdfjlrg"
      }
    },
    {
      "cell_type": "markdown",
      "source": [
        "**12.Access the second-to-last element of the tuple ('red', 'green', 'blue', 'yellow')**"
      ],
      "metadata": {
        "id": "Eg-xuu6BjtqQ"
      }
    },
    {
      "cell_type": "code",
      "source": [
        "colors = ('red', 'green', 'blue', 'yellow')\n",
        "print(colors[-2])"
      ],
      "metadata": {
        "colab": {
          "base_uri": "https://localhost:8080/"
        },
        "id": "FrQq1W39jwqI",
        "outputId": "1cc5ee30-ce81-4b8a-ed4e-90d13d159a12"
      },
      "execution_count": 12,
      "outputs": [
        {
          "output_type": "stream",
          "name": "stdout",
          "text": [
            "blue\n"
          ]
        }
      ]
    },
    {
      "cell_type": "markdown",
      "source": [
        "**13.Find the minimum number in the tuple (10, 20, 5, 15)**\n"
      ],
      "metadata": {
        "id": "0e2Wx5xMj4Sh"
      }
    },
    {
      "cell_type": "code",
      "source": [
        "t = (10, 20, 5, 15)\n",
        "print(min(t))"
      ],
      "metadata": {
        "colab": {
          "base_uri": "https://localhost:8080/"
        },
        "id": "b7CTpDJfkCzz",
        "outputId": "5a556937-371c-480c-8102-ee8a5d89c9a0"
      },
      "execution_count": 13,
      "outputs": [
        {
          "output_type": "stream",
          "name": "stdout",
          "text": [
            "5\n"
          ]
        }
      ]
    },
    {
      "cell_type": "markdown",
      "source": [
        "**14.Find the index of the element \"cat\" in the tuple ('dog', 'cat', 'rabbit')**"
      ],
      "metadata": {
        "id": "8n49NE3mkJF4"
      }
    },
    {
      "cell_type": "code",
      "source": [
        "animals = ('dog', 'cat', 'rabbit')\n",
        "print(animals.index(\"cat\"))"
      ],
      "metadata": {
        "colab": {
          "base_uri": "https://localhost:8080/"
        },
        "id": "BI-z-uQ_kRpw",
        "outputId": "d1821161-6f1d-4061-fc5e-c1ba3c458d9a"
      },
      "execution_count": 14,
      "outputs": [
        {
          "output_type": "stream",
          "name": "stdout",
          "text": [
            "1\n"
          ]
        }
      ]
    },
    {
      "cell_type": "markdown",
      "source": [
        "**15.Create a tuple containing three different fruits and check if \"kiwi\" is in it**"
      ],
      "metadata": {
        "id": "XbKEbVzHkY_J"
      }
    },
    {
      "cell_type": "code",
      "source": [
        "fruits = (\"apple\", \"banana\", \"mango\")\n",
        "print(\"kiwi\" in fruits)"
      ],
      "metadata": {
        "colab": {
          "base_uri": "https://localhost:8080/"
        },
        "id": "I5871gozkioQ",
        "outputId": "81bf22ea-5449-46da-eff4-1ea0a41f6f38"
      },
      "execution_count": 15,
      "outputs": [
        {
          "output_type": "stream",
          "name": "stdout",
          "text": [
            "False\n"
          ]
        }
      ]
    },
    {
      "cell_type": "markdown",
      "source": [
        "**16.Create a set with the elements 'a', 'b', 'c' and print it**"
      ],
      "metadata": {
        "id": "esSYMi0CknpQ"
      }
    },
    {
      "cell_type": "code",
      "source": [
        "s = {'a', 'b', 'c'}\n",
        "print(s)"
      ],
      "metadata": {
        "colab": {
          "base_uri": "https://localhost:8080/"
        },
        "id": "a6GqJ5-Sk_q5",
        "outputId": "00f43424-3b97-4763-efda-982556cc8b5f"
      },
      "execution_count": 16,
      "outputs": [
        {
          "output_type": "stream",
          "name": "stdout",
          "text": [
            "{'a', 'c', 'b'}\n"
          ]
        }
      ]
    },
    {
      "cell_type": "markdown",
      "source": [
        "**17.Clear all elements from the set {1, 2, 3, 4, 5}**"
      ],
      "metadata": {
        "id": "XPh6Q6vMlGUK"
      }
    },
    {
      "cell_type": "code",
      "source": [
        "s1 = {1, 2, 3, 4, 5}\n",
        "s1.clear()\n",
        "print(s1)"
      ],
      "metadata": {
        "colab": {
          "base_uri": "https://localhost:8080/"
        },
        "id": "hyvhzitllJG5",
        "outputId": "074a78b6-5fca-4632-8a57-3dfc640e71ed"
      },
      "execution_count": 17,
      "outputs": [
        {
          "output_type": "stream",
          "name": "stdout",
          "text": [
            "set()\n"
          ]
        }
      ]
    },
    {
      "cell_type": "markdown",
      "source": [
        "**18.Remove the element 4 from the set {1, 2, 3, 4}**"
      ],
      "metadata": {
        "id": "4wNJo-MClOgx"
      }
    },
    {
      "cell_type": "code",
      "source": [
        "s2 = {1, 2, 3, 4}\n",
        "s2.remove(4)\n",
        "print(s2)"
      ],
      "metadata": {
        "colab": {
          "base_uri": "https://localhost:8080/"
        },
        "id": "_otNpoFslW0i",
        "outputId": "d1b0fa64-4d47-4263-8daf-1a3655001c23"
      },
      "execution_count": 18,
      "outputs": [
        {
          "output_type": "stream",
          "name": "stdout",
          "text": [
            "{1, 2, 3}\n"
          ]
        }
      ]
    },
    {
      "cell_type": "markdown",
      "source": [
        "**19.Find the union of two sets {1, 2, 3} and {3, 4, 5}**"
      ],
      "metadata": {
        "id": "wj7jFY7jla9Z"
      }
    },
    {
      "cell_type": "code",
      "source": [
        "a = {1, 2, 3}\n",
        "b = {3, 4, 5}\n",
        "print(a.union(b))"
      ],
      "metadata": {
        "colab": {
          "base_uri": "https://localhost:8080/"
        },
        "id": "tZ2wemgGlfWp",
        "outputId": "2eeecbdf-50d6-45e3-90f5-5d68094a54cc"
      },
      "execution_count": 19,
      "outputs": [
        {
          "output_type": "stream",
          "name": "stdout",
          "text": [
            "{1, 2, 3, 4, 5}\n"
          ]
        }
      ]
    },
    {
      "cell_type": "markdown",
      "source": [
        "**20.Find the intersection of two sets {1, 2, 3} and {2, 3, 4}**"
      ],
      "metadata": {
        "id": "GdkQlgnzljNR"
      }
    },
    {
      "cell_type": "code",
      "source": [
        "x = {1, 2, 3}\n",
        "y = {2, 3, 4}\n",
        "print(x.intersection(y))"
      ],
      "metadata": {
        "colab": {
          "base_uri": "https://localhost:8080/"
        },
        "id": "7hNGtsQuloaB",
        "outputId": "8b2387d4-fd8c-4ed2-f19d-711397e30e3d"
      },
      "execution_count": 20,
      "outputs": [
        {
          "output_type": "stream",
          "name": "stdout",
          "text": [
            "{2, 3}\n"
          ]
        }
      ]
    },
    {
      "cell_type": "markdown",
      "source": [
        "**21.Create a dictionary with the keys \"name\", \"age\", and \"city\", and print it**"
      ],
      "metadata": {
        "id": "wyAtphnoltqi"
      }
    },
    {
      "cell_type": "code",
      "source": [
        "person = {\"name\": \"John\", \"age\": 25, \"city\": \"New York\"}\n",
        "print(person)"
      ],
      "metadata": {
        "colab": {
          "base_uri": "https://localhost:8080/"
        },
        "id": "3FdyuEPylzih",
        "outputId": "cc21b1f0-af4e-4d77-d8fd-72afae17bfe8"
      },
      "execution_count": 21,
      "outputs": [
        {
          "output_type": "stream",
          "name": "stdout",
          "text": [
            "{'name': 'John', 'age': 25, 'city': 'New York'}\n"
          ]
        }
      ]
    },
    {
      "cell_type": "markdown",
      "source": [
        "**22.Add a new key-value pair \"country\": \"USA\" to the dictionary {'name': 'John', 'age': 25}**"
      ],
      "metadata": {
        "id": "1U1-Jm_fl6rh"
      }
    },
    {
      "cell_type": "code",
      "source": [
        "person2 = {'name': 'John', 'age': 25}\n",
        "person2[\"country\"] = \"USA\"\n",
        "print(person2)"
      ],
      "metadata": {
        "colab": {
          "base_uri": "https://localhost:8080/"
        },
        "id": "oLptrkYBmAzK",
        "outputId": "5911c1dd-11a0-4cf3-d58e-a5cb59253456"
      },
      "execution_count": 22,
      "outputs": [
        {
          "output_type": "stream",
          "name": "stdout",
          "text": [
            "{'name': 'John', 'age': 25, 'country': 'USA'}\n"
          ]
        }
      ]
    },
    {
      "cell_type": "markdown",
      "source": [
        "**23.Access the value associated with the key \"name\" in the dictionary {'name': 'Alice', 'age': 30}**"
      ],
      "metadata": {
        "id": "lJcN8AonmG2p"
      }
    },
    {
      "cell_type": "code",
      "source": [
        "d = {'name': 'Alice', 'age': 30}\n",
        "print(d[\"name\"])"
      ],
      "metadata": {
        "colab": {
          "base_uri": "https://localhost:8080/"
        },
        "id": "_JROenXSmshB",
        "outputId": "586c78f6-2d2e-43bc-9848-acd99a239def"
      },
      "execution_count": 24,
      "outputs": [
        {
          "output_type": "stream",
          "name": "stdout",
          "text": [
            "Alice\n"
          ]
        }
      ]
    },
    {
      "cell_type": "markdown",
      "source": [
        "**24.Remove the key \"age\" from the dictionary {'name': 'Bob', 'age': 22, 'city': 'New York'}**"
      ],
      "metadata": {
        "id": "FRk1loDnm2Qq"
      }
    },
    {
      "cell_type": "code",
      "source": [
        "d2 = {'name': 'Bob', 'age': 22, 'city': 'New York'}\n",
        "del d2[\"age\"]\n",
        "print(d2)"
      ],
      "metadata": {
        "colab": {
          "base_uri": "https://localhost:8080/"
        },
        "id": "WjyWawa9m9ad",
        "outputId": "f986d11c-dbd7-495b-83ac-4579f9465b58"
      },
      "execution_count": 25,
      "outputs": [
        {
          "output_type": "stream",
          "name": "stdout",
          "text": [
            "{'name': 'Bob', 'city': 'New York'}\n"
          ]
        }
      ]
    },
    {
      "cell_type": "markdown",
      "source": [
        "**25.Check if the key \"city\" exists in the dictionary {'name': 'Alice', 'city': 'Paris'}**"
      ],
      "metadata": {
        "id": "6mywv4L0nNqy"
      }
    },
    {
      "cell_type": "code",
      "source": [
        "d3 = {'name': 'Alice', 'city': 'Paris'}\n",
        "print(\"city\" in d3)"
      ],
      "metadata": {
        "colab": {
          "base_uri": "https://localhost:8080/"
        },
        "id": "qG5lu3ONnVVK",
        "outputId": "16f7a01f-2a5a-45b6-d472-dfe6c269af21"
      },
      "execution_count": 26,
      "outputs": [
        {
          "output_type": "stream",
          "name": "stdout",
          "text": [
            "True\n"
          ]
        }
      ]
    },
    {
      "cell_type": "markdown",
      "source": [
        "**26.Create a list, a tuple, and a dictionary, and print them all**"
      ],
      "metadata": {
        "id": "Tjp6NwIMna1Z"
      }
    },
    {
      "cell_type": "code",
      "source": [
        "my_list = [1, 2, 3]\n",
        "my_tuple = (4, 5, 6)\n",
        "my_dict = {\"a\": 1, \"b\": 2}\n",
        "print(my_list)\n",
        "print(my_tuple)\n",
        "print(my_dict)"
      ],
      "metadata": {
        "colab": {
          "base_uri": "https://localhost:8080/"
        },
        "id": "SdtKpVD3ngjj",
        "outputId": "dd90be89-ea13-45b2-f868-39b62351815c"
      },
      "execution_count": 27,
      "outputs": [
        {
          "output_type": "stream",
          "name": "stdout",
          "text": [
            "[1, 2, 3]\n",
            "(4, 5, 6)\n",
            "{'a': 1, 'b': 2}\n"
          ]
        }
      ]
    },
    {
      "cell_type": "markdown",
      "source": [
        "**27.Create a list of 5 random numbers between 1 and 100, sort it in ascending order, and print the result**"
      ],
      "metadata": {
        "id": "-p5py0cXnkGa"
      }
    },
    {
      "cell_type": "code",
      "source": [
        "import random\n",
        "rand_nums = random.sample(range(1, 101), 5)\n",
        "rand_nums.sort()\n",
        "print(rand_nums)"
      ],
      "metadata": {
        "colab": {
          "base_uri": "https://localhost:8080/"
        },
        "id": "ANVsACienrCB",
        "outputId": "3a30052c-6a1c-42ef-e3de-f5779fc64522"
      },
      "execution_count": 28,
      "outputs": [
        {
          "output_type": "stream",
          "name": "stdout",
          "text": [
            "[5, 38, 67, 75, 90]\n"
          ]
        }
      ]
    },
    {
      "cell_type": "markdown",
      "source": [
        "**28.Create a list with strings and print the element at the third index**"
      ],
      "metadata": {
        "id": "B7NM3s1Pnv9y"
      }
    },
    {
      "cell_type": "code",
      "source": [
        "str_list = [\"apple\", \"banana\", \"cherry\", \"date\", \"fig\"]\n",
        "print(str_list[3])"
      ],
      "metadata": {
        "colab": {
          "base_uri": "https://localhost:8080/"
        },
        "id": "TVg6BiwUn7ki",
        "outputId": "f3983d2e-04a7-4119-9631-ae8374bd78c4"
      },
      "execution_count": 29,
      "outputs": [
        {
          "output_type": "stream",
          "name": "stdout",
          "text": [
            "date\n"
          ]
        }
      ]
    },
    {
      "cell_type": "markdown",
      "source": [
        "**29.Combine two dictionaries into one and print the result**"
      ],
      "metadata": {
        "id": "R6zAb_ccn_2i"
      }
    },
    {
      "cell_type": "code",
      "source": [
        "dict1 = {\"name\": \"Alice\"}\n",
        "dict2 = {\"age\": 30}\n",
        "combined = {**dict1, **dict2}\n",
        "print(combined)"
      ],
      "metadata": {
        "colab": {
          "base_uri": "https://localhost:8080/"
        },
        "id": "g33ybj4toGBq",
        "outputId": "f1ede604-aceb-4337-b987-96bd2d916898"
      },
      "execution_count": 30,
      "outputs": [
        {
          "output_type": "stream",
          "name": "stdout",
          "text": [
            "{'name': 'Alice', 'age': 30}\n"
          ]
        }
      ]
    },
    {
      "cell_type": "markdown",
      "source": [
        "**30.Convert a list of strings into a set**"
      ],
      "metadata": {
        "id": "Y8PsIejNoNUa"
      }
    },
    {
      "cell_type": "code",
      "source": [
        "strs = [\"apple\", \"banana\", \"apple\", \"orange\"]\n",
        "str_set = set(strs)\n",
        "print(str_set)"
      ],
      "metadata": {
        "colab": {
          "base_uri": "https://localhost:8080/"
        },
        "id": "h0lCpA-2oRzS",
        "outputId": "fd12c08c-3c05-438c-eb9d-c169f6edf38b"
      },
      "execution_count": 31,
      "outputs": [
        {
          "output_type": "stream",
          "name": "stdout",
          "text": [
            "{'orange', 'apple', 'banana'}\n"
          ]
        }
      ]
    }
  ]
}